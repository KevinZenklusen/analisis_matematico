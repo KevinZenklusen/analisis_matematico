{
  "cells": [
    {
      "cell_type": "markdown",
      "metadata": {
        "id": "bpJ7s_SIVu_I"
      },
      "source": [
        "# Trabajo Práctico Final: Linear/Quadratic Discriminant Analysis (LDA/QDA)\n",
        "\n",
        "### Definición: Clasificador Bayesiano\n",
        "\n",
        "Sean $k$ poblaciones, $x \\in \\mathbb{R}^p$ puede pertenecer a cualquiera $g \\in \\mathcal{G}$ de ellas. Bajo un esquema bayesiano, se define entonces $\\pi_j \\doteq P(G = j)$ la probabilidad *a priori* de que $X$ pertenezca a la clase *j*, y se **asume conocida** la distribución condicional de cada observable dado su clase $f_j \\doteq f_{X|G=j}$.\n",
        "\n",
        "De esta manera dicha probabilidad *a posteriori* resulta\n",
        "$$\n",
        "P(G|_{X=x} = j) = \\frac{f_{X|G=j}(x) \\cdot p_G(j)}{f_X(x)} \\propto f_j(x) \\cdot \\pi_j\n",
        "$$\n",
        "\n",
        "La regla de decisión de Bayes es entonces\n",
        "$$\n",
        "H(x) \\doteq \\arg \\max_{g \\in \\mathcal{G}} \\{ P(G|_{X=x} = j) \\} = \\arg \\max_{g \\in \\mathcal{G}} \\{ f_j(x) \\cdot \\pi_j \\}\n",
        "$$\n",
        "\n",
        "es decir, se predice a $x$ como perteneciente a la población $j$ cuya probabilidad a posteriori es máxima.\n",
        "\n",
        "*Ojo, a no desesperar! $\\pi_j$ no es otra cosa que una constante prefijada, y $f_j$ es, en su esencia, un campo escalar de $x$ a simplemente evaluar.*\n",
        "\n",
        "### Distribución condicional\n",
        "\n",
        "Para los clasificadores de discriminante cuadrático y lineal (QDA/LDA) se asume que $X|_{G=j} \\sim \\mathcal{N}_p(\\mu_j, \\Sigma_j)$, es decir, se asume que cada población sigue una distribución normal.\n",
        "\n",
        "Por definición, se tiene entonces que para una clase $j$:\n",
        "$$\n",
        "f_j(x) = \\frac{1}{(2 \\pi)^\\frac{p}{2} \\cdot |\\Sigma_j|^\\frac{1}{2}} e^{- \\frac{1}{2}(x-\\mu_j)^T \\Sigma_j^{-1} (x- \\mu_j)}\n",
        "$$\n",
        "\n",
        "Aplicando logaritmo (que al ser una función estrictamente creciente no afecta el cálculo de máximos/mínimos), queda algo mucho más práctico de trabajar:\n",
        "\n",
        "$$\n",
        "\\log{f_j(x)} = -\\frac{1}{2}\\log |\\Sigma_j| - \\frac{1}{2} (x-\\mu_j)^T \\Sigma_j^{-1} (x- \\mu_j) + C\n",
        "$$\n",
        "\n",
        "Observar que en este caso $C=-\\frac{p}{2} \\log(2\\pi)$, pero no se tiene en cuenta ya que al tener una constante aditiva en todas las clases, no afecta al cálculo del máximo.\n",
        "\n",
        "### LDA\n",
        "\n",
        "En el caso de LDA se hace una suposición extra, que es $X|_{G=j} \\sim \\mathcal{N}_p(\\mu_j, \\Sigma)$, es decir que las poblaciones no sólo siguen una distribución normal sino que son de igual matriz de covarianzas. Reemplazando arriba se obtiene entonces:\n",
        "\n",
        "$$\n",
        "\\log{f_j(x)} =  -\\frac{1}{2}\\log |\\Sigma| - \\frac{1}{2} (x-\\mu_j)^T \\Sigma^{-1} (x- \\mu_j) + C\n",
        "$$\n",
        "\n",
        "Ahora, como $-\\frac{1}{2}\\log |\\Sigma|$ es común a todas las clases se puede incorporar a la constante aditiva y, distribuyendo y reagrupando términos sobre $(x-\\mu_j)^T \\Sigma^{-1} (x- \\mu_j)$ se obtiene finalmente:\n",
        "\n",
        "$$\n",
        "\\log{f_j(x)} =  \\mu_j^T \\Sigma^{-1} (x- \\frac{1}{2} \\mu_j) + C'\n",
        "$$\n",
        "\n",
        "### Entrenamiento/Ajuste\n",
        "\n",
        "Obsérvese que para ambos modelos, ajustarlos a los datos implica estimar los parámetros $(\\mu_j, \\Sigma_j) \\; \\forall j = 1, \\dots, k$ en el caso de QDA, y $(\\mu_j, \\Sigma)$ para LDA.\n",
        "\n",
        "Estos parámetros se estiman por máxima verosimilitud, de manera que los estimadores resultan:\n",
        "\n",
        "* $\\hat{\\mu}_j = \\bar{x}_j$ el promedio de los $x$ de la clase *j*\n",
        "* $\\hat{\\Sigma}_j = s^2_j$ la matriz de covarianzas estimada para cada clase *j*\n",
        "* $\\hat{\\pi}_j = f_{R_j} = \\frac{n_j}{n}$ la frecuencia relativa de la clase *j* en la muestra\n",
        "* $\\hat{\\Sigma} = \\frac{1}{n} \\sum_{j=1}^k n_j \\cdot s^2_j$ el promedio ponderado (por frecs. relativas) de las matrices de covarianzas de todas las clases. *Observar que se utiliza el estimador de MV y no el insesgado*\n",
        "\n",
        "Es importante notar que si bien todos los $\\mu, \\Sigma$ deben ser estimados, la distribución *a priori* puede no inferirse de los datos sino asumirse previamente, utilizándose como entrada del modelo.\n",
        "\n",
        "### Predicción\n",
        "\n",
        "Para estos modelos, al igual que para cualquier clasificador Bayesiano del tipo antes visto, la estimación de la clase es por método *plug-in* sobre la regla de decisión $H(x)$, es decir devolver la clase que maximiza $\\hat{f}_j(x) \\cdot \\hat{\\pi}_j$, o lo que es lo mismo $\\log\\hat{f}_j(x) + \\log\\hat{\\pi}_j$."
      ]
    },
    {
      "cell_type": "markdown",
      "metadata": {
        "id": "5TDWOgpJWKQa"
      },
      "source": [
        "## Estructura del código"
      ]
    },
    {
      "cell_type": "markdown",
      "metadata": {
        "id": "6yEV8WbiWl6k"
      },
      "source": [
        "## Modelo"
      ]
    },
    {
      "cell_type": "code",
      "execution_count": 1,
      "metadata": {
        "id": "teF9O9JJmG7Z"
      },
      "outputs": [],
      "source": [
        "import numpy as np\n",
        "from numpy.linalg import det, inv"
      ]
    },
    {
      "cell_type": "code",
      "execution_count": 2,
      "metadata": {
        "id": "sDBLvbTtlwzs"
      },
      "outputs": [],
      "source": [
        "class ClassEncoder:\n",
        "  def fit(self, y):\n",
        "    self.names = np.unique(y)\n",
        "    self.name_to_class = {name:idx for idx, name in enumerate(self.names)}\n",
        "    self.fmt = y.dtype\n",
        "    # Q1: por que no hace falta definir un class_to_name para el mapeo inverso?\n",
        "\n",
        "  def _map_reshape(self, f, arr):\n",
        "    return np.array([f(elem) for elem in arr.flatten()]).reshape(arr.shape)\n",
        "    # Q2: por que hace falta un reshape?\n",
        "\n",
        "  def transform(self, y):\n",
        "    return self._map_reshape(lambda name: self.name_to_class[name], y)\n",
        "\n",
        "  def fit_transform(self, y):\n",
        "    self.fit(y)\n",
        "    return self.transform(y)\n",
        "\n",
        "  def detransform(self, y_hat):\n",
        "    return self._map_reshape(lambda idx: self.names[idx], y_hat)"
      ]
    },
    {
      "cell_type": "code",
      "execution_count": 3,
      "metadata": {
        "id": "m0KYC8_uSOu4"
      },
      "outputs": [],
      "source": [
        "class BaseBayesianClassifier:\n",
        "  def __init__(self):\n",
        "    self.encoder = ClassEncoder()\n",
        "\n",
        "  def _estimate_a_priori(self, y):\n",
        "    a_priori = np.bincount(y.flatten().astype(int)) / y.size\n",
        "    # Q3: para que sirve bincount?\n",
        "    return np.log(a_priori)\n",
        "\n",
        "  def _fit_params(self, X, y):\n",
        "    # estimate all needed parameters for given model\n",
        "    raise NotImplementedError()\n",
        "\n",
        "  def _predict_log_conditional(self, x, class_idx):\n",
        "    # predict the log(P(x|G=class_idx)), the log of the conditional probability of x given the class\n",
        "    # this should depend on the model used\n",
        "    raise NotImplementedError()\n",
        "\n",
        "  def fit(self, X, y, a_priori=None):\n",
        "    # first encode the classes\n",
        "    y = self.encoder.fit_transform(y)\n",
        "\n",
        "    # if it's needed, estimate a priori probabilities\n",
        "    self.log_a_priori = self._estimate_a_priori(y) if a_priori is None else np.log(a_priori)\n",
        "\n",
        "    # check that a_priori has the correct number of classes\n",
        "    assert len(self.log_a_priori) == len(self.encoder.names), \"A priori probabilities do not match number of classes\"\n",
        "\n",
        "    # now that everything else is in place, estimate all needed parameters for given model\n",
        "    self._fit_params(X, y)\n",
        "    # Q4: por que el _fit_params va al final? no se puede mover a, por ejemplo, antes de la priori?\n",
        "\n",
        "  def predict(self, X):\n",
        "    # this is actually an individual prediction encased in a for-loop\n",
        "    m_obs = X.shape[1]\n",
        "    y_hat = np.empty(m_obs, dtype=self.encoder.fmt)\n",
        "\n",
        "    for i in range(m_obs):\n",
        "      encoded_y_hat_i = self._predict_one(X[:,i].reshape(-1,1))\n",
        "      y_hat[i] = self.encoder.names[encoded_y_hat_i]\n",
        "\n",
        "    # return prediction as a row vector (matching y)\n",
        "    return y_hat.reshape(1,-1)\n",
        "\n",
        "  def _predict_one(self, x):\n",
        "    # calculate all log posteriori probabilities (actually, +C)\n",
        "    log_posteriori = [ log_a_priori_i + self._predict_log_conditional(x, idx) for idx, log_a_priori_i\n",
        "                  in enumerate(self.log_a_priori) ]\n",
        "\n",
        "    # return the class that has maximum a posteriori probability\n",
        "    return np.argmax(log_posteriori)"
      ]
    },
    {
      "cell_type": "code",
      "execution_count": 4,
      "metadata": {
        "id": "IRamFdiGDuSR"
      },
      "outputs": [],
      "source": [
        "class QDA(BaseBayesianClassifier):\n",
        "\n",
        "  def _fit_params(self, X, y):\n",
        "    # estimate each covariance matrix\n",
        "    self.inv_covs = [inv(np.cov(X[:,y.flatten()==idx], bias=True))\n",
        "                      for idx in range(len(self.log_a_priori))]\n",
        "    # Q5: por que hace falta el flatten y no se puede directamente X[:,y==idx]?\n",
        "    # Q6: por que se usa bias=True en vez del default bias=False?\n",
        "    self.means = [X[:,y.flatten()==idx].mean(axis=1, keepdims=True)\n",
        "                  for idx in range(len(self.log_a_priori))]\n",
        "    # Q7: que hace axis=1? por que no axis=0?\n",
        "\n",
        "  def _predict_log_conditional(self, x, class_idx):\n",
        "    # predict the log(P(x|G=class_idx)), the log of the conditional probability of x given the class\n",
        "    # this should depend on the model used\n",
        "    inv_cov = self.inv_covs[class_idx]\n",
        "    unbiased_x =  x - self.means[class_idx]\n",
        "    return 0.5*np.log(det(inv_cov)) -0.5 * unbiased_x.T @ inv_cov @ unbiased_x"
      ]
    },
    {
      "cell_type": "code",
      "execution_count": 5,
      "metadata": {
        "id": "fRtC9HEkO5Hu"
      },
      "outputs": [],
      "source": [
        "class TensorizedQDA(QDA):\n",
        "\n",
        "    def _fit_params(self, X, y):\n",
        "        # ask plain QDA to fit params\n",
        "        super()._fit_params(X,y)\n",
        "\n",
        "        # stack onto new dimension\n",
        "        self.tensor_inv_cov = np.stack(self.inv_covs)\n",
        "        self.tensor_means = np.stack(self.means)\n",
        "\n",
        "    def _predict_log_conditionals(self,x):\n",
        "        unbiased_x = x - self.tensor_means\n",
        "        inner_prod = unbiased_x.transpose(0,2,1) @ self.tensor_inv_cov @ unbiased_x\n",
        "\n",
        "        return 0.5*np.log(det(self.tensor_inv_cov)) - 0.5 * inner_prod.flatten()\n",
        "\n",
        "    def _predict_one(self, x):\n",
        "        # return the class that has maximum a posteriori probability\n",
        "        return np.argmax(self.log_a_priori + self._predict_log_conditionals(x))"
      ]
    },
    {
      "cell_type": "markdown",
      "metadata": {
        "id": "KS_zoK-gWkRf"
      },
      "source": [
        "## Código para pruebas"
      ]
    },
    {
      "cell_type": "markdown",
      "metadata": {
        "id": "nz19b6NJed2A"
      },
      "source": [
        "Seteamos los datos"
      ]
    },
    {
      "cell_type": "code",
      "execution_count": 6,
      "metadata": {
        "id": "m05KrhUDINVs"
      },
      "outputs": [],
      "source": [
        "# hiperparámetros\n",
        "rng_seed = 6543"
      ]
    },
    {
      "cell_type": "code",
      "execution_count": 7,
      "metadata": {
        "colab": {
          "base_uri": "https://localhost:8080/"
        },
        "id": "2hkXcoldXOqs",
        "outputId": "2ce8d627-3433-4bdd-d370-85f6b703a7b9"
      },
      "outputs": [
        {
          "name": "stdout",
          "output_type": "stream",
          "text": [
            "X: (150, 4), Y:(150, 1)\n"
          ]
        }
      ],
      "source": [
        "from sklearn.datasets import load_iris, fetch_openml\n",
        "\n",
        "def get_iris_dataset():\n",
        "  data = load_iris()\n",
        "  X_full = data.data\n",
        "  y_full = np.array([data.target_names[y] for y in data.target.reshape(-1,1)])\n",
        "  return X_full, y_full\n",
        "\n",
        "def get_penguins():\n",
        "    # get data\n",
        "    df, tgt = fetch_openml(name=\"penguins\", return_X_y=True, as_frame=True)\n",
        "\n",
        "    # drop non-numeric columns\n",
        "    df.drop(columns=[\"island\",\"sex\"], inplace=True)\n",
        "\n",
        "    # drop rows with missing values\n",
        "    mask = df.isna().sum(axis=1) == 0\n",
        "    df = df[mask]\n",
        "    tgt = tgt[mask]\n",
        "\n",
        "    return df.values, tgt.to_numpy().reshape(-1,1)\n",
        "\n",
        "# showing for iris\n",
        "X_full, y_full = get_iris_dataset()\n",
        "\n",
        "print(f\"X: {X_full.shape}, Y:{y_full.shape}\")"
      ]
    },
    {
      "cell_type": "code",
      "execution_count": 8,
      "metadata": {
        "colab": {
          "base_uri": "https://localhost:8080/"
        },
        "id": "jAk-UQCjKecT",
        "outputId": "9566d67a-b78b-4809-bb94-8f605b065db6"
      },
      "outputs": [
        {
          "data": {
            "text/plain": [
              "array([[5.1, 3.5, 1.4, 0.2],\n",
              "       [4.9, 3. , 1.4, 0.2],\n",
              "       [4.7, 3.2, 1.3, 0.2],\n",
              "       [4.6, 3.1, 1.5, 0.2],\n",
              "       [5. , 3.6, 1.4, 0.2]])"
            ]
          },
          "execution_count": 8,
          "metadata": {},
          "output_type": "execute_result"
        }
      ],
      "source": [
        "# peek data matrix\n",
        "X_full[:5]"
      ]
    },
    {
      "cell_type": "code",
      "execution_count": 9,
      "metadata": {
        "colab": {
          "base_uri": "https://localhost:8080/"
        },
        "id": "YdzMURX2KVdO",
        "outputId": "af5fc3ac-b391-4769-de47-44cea4f566c8"
      },
      "outputs": [
        {
          "data": {
            "text/plain": [
              "array([['setosa'],\n",
              "       ['setosa'],\n",
              "       ['setosa'],\n",
              "       ['setosa'],\n",
              "       ['setosa']], dtype='<U10')"
            ]
          },
          "execution_count": 9,
          "metadata": {},
          "output_type": "execute_result"
        }
      ],
      "source": [
        "# peek target vector\n",
        "y_full[:5]"
      ]
    },
    {
      "cell_type": "markdown",
      "metadata": {
        "id": "Kl8UFh1OegbJ"
      },
      "source": [
        "Separamos el dataset en train y test para medir performance"
      ]
    },
    {
      "cell_type": "code",
      "execution_count": 10,
      "metadata": {
        "colab": {
          "base_uri": "https://localhost:8080/"
        },
        "id": "LKP_QmWCIECs",
        "outputId": "07798c6a-aa54-430e-d46d-becc2a4315ed"
      },
      "outputs": [
        {
          "name": "stdout",
          "output_type": "stream",
          "text": [
            "(4, 105) (1, 105) (4, 45) (1, 45)\n"
          ]
        }
      ],
      "source": [
        "# preparing data, train - test validation\n",
        "# 70-30 split\n",
        "from sklearn.model_selection import train_test_split\n",
        "\n",
        "def split_transpose(X, y, test_sz, random_state):\n",
        "    # split\n",
        "    X_train, X_test, y_train, y_test = train_test_split(X, y, test_size=test_sz, random_state=random_state)\n",
        "\n",
        "    # transpose so observations are column vectors\n",
        "    return X_train.T, y_train.T, X_test.T, y_test.T\n",
        "\n",
        "def accuracy(y_true, y_pred):\n",
        "  return (y_true == y_pred).mean()\n",
        "\n",
        "train_x, train_y, test_x, test_y = split_transpose(X_full, y_full, 0.3, rng_seed)\n",
        "\n",
        "print(train_x.shape, train_y.shape, test_x.shape, test_y.shape)"
      ]
    },
    {
      "cell_type": "markdown",
      "metadata": {
        "id": "LwgXFPbJemb_"
      },
      "source": [
        "Entrenamos un QDA y medimos su accuracy"
      ]
    },
    {
      "cell_type": "code",
      "execution_count": 11,
      "metadata": {
        "id": "dGIf2TA5SpoT"
      },
      "outputs": [],
      "source": [
        "qda = QDA()\n",
        "qda.fit(train_x, train_y)"
      ]
    },
    {
      "cell_type": "code",
      "execution_count": 12,
      "metadata": {
        "colab": {
          "base_uri": "https://localhost:8080/"
        },
        "id": "c0Q30DyLWpTL",
        "outputId": "dbccae86-840c-412f-ed97-22cfac21238a"
      },
      "outputs": [
        {
          "name": "stdout",
          "output_type": "stream",
          "text": [
            "Train (apparent) error is 0.0190 while test error is 0.0000\n"
          ]
        }
      ],
      "source": [
        "train_acc = accuracy(train_y, qda.predict(train_x))\n",
        "test_acc = accuracy(test_y, qda.predict(test_x))\n",
        "print(f\"Train (apparent) error is {1-train_acc:.4f} while test error is {1-test_acc:.4f}\")"
      ]
    },
    {
      "cell_type": "markdown",
      "metadata": {
        "id": "-QcLtNNIevC_"
      },
      "source": [
        "Con el magic %%timeit podemos estimar el tiempo que tarda en correr una celda en base a varias ejecuciones. Por poner un ejemplo, acá vamos a estimar lo que tarda un ciclo completo de QDA y también su inferencia (predicción).\n",
        "\n",
        "Ojo! a veces [puede ser necesario ejecutarlo varias veces](https://stackoverflow.com/questions/10994405/python-timeit-results-cached-instead-of-calculated) para obtener resultados consistentes."
      ]
    },
    {
      "cell_type": "code",
      "execution_count": 13,
      "metadata": {
        "colab": {
          "base_uri": "https://localhost:8080/"
        },
        "id": "vnZT-HN2fUuW",
        "outputId": "2618e7c1-7a77-4285-bafb-c2880ad167a1"
      },
      "outputs": [
        {
          "name": "stdout",
          "output_type": "stream",
          "text": [
            "1.69 ms ± 148 µs per loop (mean ± std. dev. of 7 runs, 100 loops each)\n"
          ]
        }
      ],
      "source": [
        "%%timeit\n",
        "qda.predict(test_x)"
      ]
    },
    {
      "cell_type": "code",
      "execution_count": 14,
      "metadata": {
        "colab": {
          "base_uri": "https://localhost:8080/"
        },
        "id": "kjFbVSqfeHUX",
        "outputId": "0254a727-a1d5-4be3-b73a-2f55d2c84a25"
      },
      "outputs": [
        {
          "name": "stdout",
          "output_type": "stream",
          "text": [
            "3.44 ms ± 91.9 µs per loop (mean ± std. dev. of 7 runs, 100 loops each)\n"
          ]
        }
      ],
      "source": [
        "%%timeit\n",
        "\n",
        "model = QDA()\n",
        "model.fit(train_x, train_y)\n",
        "model.predict(test_x)"
      ]
    },
    {
      "cell_type": "markdown",
      "metadata": {
        "id": "1Yb1V7_yXRfO"
      },
      "source": [
        "# Consigna\n",
        "\n",
        "## Implementación\n",
        "1. Entrenar un modelo QDA sobre el dataset *iris* utilizando las distribuciones *a priori* a continuación ¿Se observan diferencias?¿Por qué cree? _Pista: comparar con las distribuciones del dataset completo, **sin splitear**_.\n",
        "    1. Uniforme (cada clase tiene probabilidad 1/3)\n",
        "    2. Una clase con probabilidad 0.9, las demás 0.05 (probar las 3 combinaciones)\n",
        "2. Repetir el punto anterior para el dataset *penguin*.\n",
        "3. Implementar el modelo LDA, entrenarlo y testearlo contra los mismos sets que QDA ¿Se observan diferencias? ¿Podría decirse que alguno de los dos es notoriamente mejor que el otro?\n",
        "4. Utilizar otros 2 (dos) valores de *random seed* para obtener distintos splits de train y test, y repetir la comparación del punto anterior ¿Las conclusiones previas se mantienen?\n",
        "5. Estimar y comparar los tiempos de predicción de las clases `QDA` y `TensorizedQDA`. De haber diferencias ¿Cuáles pueden ser las causas?\n",
        "\n",
        "\n",
        "**Sugerencia:** puede resultar de utilidad para los puntos de comparación utilizar tablas del siguiente estilo:\n",
        "\n",
        "<center>\n",
        "\n",
        "Modelo | Dataset | Seed | Error (train) | Error (test)\n",
        ":---: | :---: | :---: | :---: | :---:\n",
        "QDA | Iris | 125 | 0.55 | 0.85\n",
        "LDA | Iris | 125 | 0.22 | 0.8\n",
        "\n",
        "</center>\n",
        "\n",
        "## Preguntas teóricas\n",
        "\n",
        "1. En LDA se menciona que la función a maximizar puede ser, mediante operaciones, convertida en:\n",
        "$$\n",
        "\\log{f_j(x)} =  \\mu_j^T \\Sigma^{-1} (x- \\frac{1}{2} \\mu_j) + C'\n",
        "$$\n",
        "Mostrar los pasos por los cuales se llega a dicha expresión.\n",
        "2. Explicar, utilizando las respectivas funciones a maximizar, por qué QDA y LDA son \"quadratic\" y \"linear\".\n",
        "3. La implementación de QDA estima la probabilidad condicional utilizando `0.5*np.log(det(inv_cov)) -0.5 * unbiased_x.T @ inv_cov @ unbiased_x` que no es *exactamente* lo descrito en el apartado teórico ¿Cuáles son las diferencias y por qué son expresiones equivalentes?\n",
        "\n",
        "El espíritu de esta componente práctica es la de establecer un mínimo de trabajo aceptable para su entrega; se invita al alumno a explorar otros aspectos que generen curiosidad, sin sentirse de ninguna manera limitado por la consigna.\n",
        "\n",
        "## Ejercicio teórico\n",
        "\n",
        "Sea una red neuronal de dos capas, la primera de 3 neuronas y la segunda de 1 con los parámetros inicializados con los siguientes valores:\n",
        "$$\n",
        "w^{(1)} =\n",
        "\\begin{pmatrix}\n",
        "0.1 & -0.5 \\\\\n",
        "-0.3 & -0.9 \\\\\n",
        "0.8 & 0.02\n",
        "\\end{pmatrix},\n",
        "b^{(1)} = \\begin{pmatrix}\n",
        "0.1 \\\\\n",
        "0.5 \\\\\n",
        "0.8\n",
        "\\end{pmatrix},\n",
        "w^{(2)} =\n",
        "\\begin{pmatrix}\n",
        "-0.4 & 0.2 & -0.5\n",
        "\\end{pmatrix},\n",
        "b^{(2)} = 0.7\n",
        "$$\n",
        "\n",
        "y donde cada capa calcula su salida vía\n",
        "\n",
        "$$\n",
        "y^{(i)} = \\sigma (w^{(i)} \\cdot x^{(i)}+b^{(i)})\n",
        "$$\n",
        "\n",
        "donde $\\sigma (z) = \\frac{1}{1+e^{-z}}$ es la función sigmoidea .\n",
        "\n",
        "\\\\\n",
        "Dada la observación $x=\\begin{pmatrix}\n",
        "1.8 \\\\\n",
        "-3.4\n",
        "\\end{pmatrix}$, $y=5$ y la función de costo $J(\\theta)=\\frac{1}{2}(\\hat{y}_\\theta-y)^2$, calcular las derivadas de J respecto de cada parámetro $w^{(1)}$, $w^{(2)}$, $b^{(1)}$, $b^{(2)}$.\n",
        "\n",
        "*Nota: Con una sigmoidea a la salida jamás va a poder estimar el 5 \"pedido\", pero eso no afecta al mecanismo de backpropagation!*\n",
        "\n",
        "## Preguntas en el código\n",
        "Previamente las preguntas \"técnicas\" en comentarios en el código eran parte del TP, y buscaban que el alumno logre entrar en el detalle de por qué cada linea de código es como es y en el orden en el que está. Ya no forman parte de la consigna, pero se aconseja al alumno intentar responderlas. Las respuestas a las mismas se encuentran en un archivo separado.\n",
        "\n",
        "## Opcional\n",
        "\n",
        "### QDA\n",
        "\n",
        "Debido a la forma cuadrática de QDA, no se puede predecir para *n* observaciones en una sola pasada (utilizar $X \\in \\mathbb{R}^{p \\times n}$ en vez de $x \\in \\mathbb{R}^p$) sin pasar por una matriz de *n x n* en donde se computan todas las interacciones entre observaciones. Se puede acceder al resultado recuperando sólo la diagonal de dicha matriz, pero resulta ineficiente en tiempo y (especialmente) en memoria. Aún así, es *posible* que el modelo funcione más rápido.\n",
        "\n",
        "1. Implementar el modelo `FasterQDA` (se recomienda heredarlo de TensorizedQDA) de manera de eliminar el ciclo for en el método predict.\n",
        "2. Comparar los tiempos de predicción de `FasterQDA` con `TensorizedQDA` y `QDA`\n",
        "3. Mostrar (puede ser con un print) dónde aparece la mencionada matriz de *n x n*, donde *n* es la cantidad de observaciones a predecir.\n",
        "4.Demostrar\n",
        "$$\n",
        "diag(A \\cdot B) = \\sum_{cols} A \\odot B^T = np.sum(A \\odot B^T, axis=1)\n",
        "$$ es decir, que se puede \"esquivar\" la matriz de *n x n* usando matrices de *n x p*.\n",
        "5.Utilizar la propiedad antes demostrada para reimplementar la predicción del modelo `FasterQDA` de forma eficiente. ¿Hay cambios en los tiempos de predicción?\n",
        "\n",
        "\n",
        "### LDA\n",
        "\n",
        "1. \"Tensorizar\" el modelo LDA y comparar sus tiempos de predicción con el modelo antes implementado. *Notar que, en modo tensorizado, se puede directamente precomputar $\\mu^T \\cdot \\Sigma^{-1} \\in \\mathbb{R}^{k \\times 1 \\times p}$ y guardar eso en vez de $\\Sigma^{-1}$.*\n",
        "2. LDA no sufre del problema antes descrito de QDA debido a que no computa productos internos, por lo que no tiene un verdadero costo extra en memoria predecir \"en batch\". Implementar el modelo `FasterLDA` y comparar sus tiempos de predicción con las versiones anteriores de LDA."
      ]
    },
    {
      "cell_type": "markdown",
      "metadata": {},
      "source": [
        "# Desarrollo:\n",
        "\n",
        "1. Entrenar un modelo QDA sobre el dataset *iris* utilizando las distribuciones *a priori* a continuación ¿Se observan diferencias?¿Por qué cree? _Pista: comparar con las distribuciones del dataset completo, **sin splitear**_.\n",
        "    1. Uniforme (cada clase tiene probabilidad 1/3)\n",
        "    2. Una clase con probabilidad 0.9, las demás 0.05 (probar las 3 combinaciones)"
      ]
    },
    {
      "cell_type": "markdown",
      "metadata": {},
      "source": [
        "El punto 1 se realizó de dos formas. En primera instancia spliteando los datos y en el segundo caso considerando los datasets completos."
      ]
    },
    {
      "cell_type": "markdown",
      "metadata": {},
      "source": [
        "Método 1 (Splitted)"
      ]
    },
    {
      "cell_type": "code",
      "execution_count": 15,
      "metadata": {},
      "outputs": [],
      "source": [
        "import pandas as pd\n",
        "#CREAMOS DATA FRAME PARA ALMACENAR LOS DATOS:\n",
        "df_results = pd.DataFrame(index=[], columns=[\"Modelo\",\t\"Dataset\",\t\"Seed\",\t\"Error (train)\",\"Error (test)\"])"
      ]
    },
    {
      "cell_type": "code",
      "execution_count": 16,
      "metadata": {},
      "outputs": [],
      "source": [
        "#distribuciones a priori uniforme:\n",
        "priori_prob = np.array([1/3, 1/3, 1/3])\n",
        "\n",
        "qda_uniform = QDA()\n",
        "\n",
        "qda_uniform.fit(train_x, train_y, priori_prob)\n",
        "\n",
        "train_acc = accuracy(train_y, qda_uniform.predict(train_x))\n",
        "test_acc = accuracy(test_y, qda_uniform.predict(test_x))"
      ]
    },
    {
      "cell_type": "code",
      "execution_count": 17,
      "metadata": {},
      "outputs": [],
      "source": [
        "#guardamos datos en el dataframe:\n",
        "df_results.at[0, \"Modelo\"] = \"QDAUniform\"\n",
        "df_results.at[0, \"Dataset\"] = \"Iris\"\n",
        "df_results.at[0, \"Seed\"] = rng_seed\n",
        "df_results.at[0, \"Error (train)\"] = 1-train_acc\n",
        "df_results.at[0, \"Error (test)\"] = 1-test_acc"
      ]
    },
    {
      "cell_type": "code",
      "execution_count": 18,
      "metadata": {},
      "outputs": [
        {
          "name": "stdout",
          "output_type": "stream",
          "text": [
            "                       Modelo Dataset  Seed Error (train) Error (test)\n",
            "0                  QDAUniform    Iris  6543      0.028571          0.0\n",
            "1  QDA with [0.9, 0.05, 0.05]    Iris  6543      0.028571          0.0\n",
            "2  QDA with [0.05, 0.9, 0.05]    Iris  6543      0.047619     0.022222\n",
            "3  QDA with [0.05, 0.05, 0.9]    Iris  6543      0.038095     0.044444\n"
          ]
        }
      ],
      "source": [
        "#Una clase con probabilidad 0.9, las demás 0.05 (probar las 3 combinaciones)\n",
        "#primer combinacion:\n",
        "priori_prob = np.array([0.9, 0.05, 0.05])\n",
        "\n",
        "qda_differentprob = QDA()\n",
        "\n",
        "qda_differentprob.fit(train_x, train_y, priori_prob)\n",
        "\n",
        "train_acc = accuracy(train_y, qda_differentprob.predict(train_x))\n",
        "test_acc = accuracy(test_y, qda_differentprob.predict(test_x))\n",
        "\n",
        "\n",
        "df_results.at[1, \"Modelo\"] = \"QDA with [0.9, 0.05, 0.05]\"\n",
        "df_results.at[1, \"Dataset\"] = \"Iris\"\n",
        "df_results.at[1, \"Seed\"] = rng_seed\n",
        "df_results.at[1, \"Error (train)\"] = 1-train_acc\n",
        "df_results.at[1, \"Error (test)\"] = 1-test_acc\n",
        "\n",
        "#segunda combinacion:\n",
        "priori_prob = np.array([0.05, 0.9, 0.05])\n",
        "\n",
        "qda_differentprob = QDA()\n",
        "\n",
        "qda_differentprob.fit(train_x, train_y, priori_prob)\n",
        "\n",
        "train_acc = accuracy(train_y, qda_differentprob.predict(train_x))\n",
        "test_acc = accuracy(test_y, qda_differentprob.predict(test_x))\n",
        "\n",
        "\n",
        "df_results.at[2, \"Modelo\"] = \"QDA with [0.05, 0.9, 0.05]\"\n",
        "df_results.at[2, \"Dataset\"] = \"Iris\"\n",
        "df_results.at[2, \"Seed\"] = rng_seed\n",
        "df_results.at[2, \"Error (train)\"] = 1-train_acc\n",
        "df_results.at[2, \"Error (test)\"] = 1-test_acc\n",
        "\n",
        "#tercera combinacion:\n",
        "priori_prob = np.array([0.05, 0.05, 0.9])\n",
        "\n",
        "qda_differentprob = QDA()\n",
        "\n",
        "qda_differentprob.fit(train_x, train_y, priori_prob)\n",
        "\n",
        "train_acc = accuracy(train_y, qda_differentprob.predict(train_x))\n",
        "test_acc = accuracy(test_y, qda_differentprob.predict(test_x))\n",
        "\n",
        "\n",
        "df_results.at[3, \"Modelo\"] = \"QDA with [0.05, 0.05, 0.9]\"\n",
        "df_results.at[3, \"Dataset\"] = \"Iris\"\n",
        "df_results.at[3, \"Seed\"] = rng_seed\n",
        "df_results.at[3, \"Error (train)\"] = 1-train_acc\n",
        "df_results.at[3, \"Error (test)\"] = 1-test_acc\n",
        "\n",
        "print(df_results)"
      ]
    },
    {
      "cell_type": "markdown",
      "metadata": {},
      "source": [
        "Método 2 (Full)"
      ]
    },
    {
      "cell_type": "code",
      "execution_count": 19,
      "metadata": {},
      "outputs": [
        {
          "name": "stdout",
          "output_type": "stream",
          "text": [
            "['setosa' 'versicolor' 'virginica']\n",
            "Uniform (apparent) error is : 0.0200\n",
            "setosa (apparent) error is : 0.0200\n",
            "versicolor (apparent) error is : 0.0333\n",
            "virginica (apparent) error is : 0.0400\n"
          ]
        }
      ],
      "source": [
        "X_full, y_full = get_iris_dataset()\n",
        "\n",
        "classes = np.unique(y_full)\n",
        "print(classes)\n",
        "\n",
        "# Entrenamos el modelo QDA con distribución uniforme (probabilidades iguales)\n",
        "qda_uniform = QDA()\n",
        "prior_uniform = np.array([1/3, 1/3, 1/3])\n",
        "qda_uniform.fit(X_full.T, y_full.T, prior_uniform)\n",
        "\n",
        "# Entrenamos el modelo QDA con una clase con alta probabilidad y las demás bajas\n",
        "\n",
        "# Clase 0 con alta probabilidad (0.9), las otras dos con baja (0.05)\n",
        "qda_high_prob_class_0 = QDA()\n",
        "prior_high_prob_class_0 = np.array([0.9, 0.05, 0.05])\n",
        "qda_high_prob_class_0.fit(X_full.T, y_full.T, prior_high_prob_class_0)\n",
        "\n",
        "# Clase 1 con alta probabilidad (0.9), las otras dos con baja (0.05)\n",
        "qda_high_prob_class_1 = QDA()\n",
        "prior_high_prob_class_1 = np.array([0.05, 0.9, 0.05])\n",
        "qda_high_prob_class_1.fit(X_full.T, y_full.T, prior_high_prob_class_1)\n",
        "\n",
        "# Clase 2 con alta probabilidad (0.9), las otras dos con baja (0.05)\n",
        "qda_high_prob_class_2 = QDA()\n",
        "prior_high_prob_class_2 = np.array([0.05, 0.05, 0.9])\n",
        "qda_high_prob_class_2.fit(X_full.T, y_full.T, prior_high_prob_class_2)\n",
        "\n",
        "# Realizamos las predicciones de los modelos\n",
        "predicted_uniform = qda_uniform.predict(X_full.T)\n",
        "predicted_high_prob_class_0 = qda_high_prob_class_0.predict(X_full.T)\n",
        "predicted_high_prob_class_1 = qda_high_prob_class_1.predict(X_full.T)\n",
        "predicted_high_prob_class_2 = qda_high_prob_class_2.predict(X_full.T)\n",
        "\n",
        "# Calculamos el accuracy para comparar las distribuciones\n",
        "accuracy_uniform = accuracy(y_full.T, predicted_uniform)\n",
        "accuracy_high_prob_class_0 = accuracy(y_full.T, predicted_high_prob_class_0)\n",
        "accuracy_high_prob_class_1 = accuracy(y_full.T, predicted_high_prob_class_1)\n",
        "accuracy_high_prob_class_2 = accuracy(y_full.T, predicted_high_prob_class_2)\n",
        "\n",
        "print(f\"Uniform (apparent) error is : {1 - accuracy_uniform:.4f}\")\n",
        "print(classes[0] + f\" (apparent) error is : {1 - accuracy_high_prob_class_0:.4f}\")\n",
        "print(classes[1] + f\" (apparent) error is : {1 - accuracy_high_prob_class_1:.4f}\")\n",
        "print(classes[2] + f\" (apparent) error is : {1 - accuracy_high_prob_class_2:.4f}\")"
      ]
    },
    {
      "cell_type": "markdown",
      "metadata": {},
      "source": [
        "Las diferencias observadas se debe al enfoque del modelo hacia ciertas clases según las distribuciones a priori, lo que influye en su capacidad para clasificar correctamente las muestras, priorizando ciertas clases sobre otras."
      ]
    },
    {
      "cell_type": "markdown",
      "metadata": {},
      "source": [
        "# \n",
        "\n",
        "\n",
        "#"
      ]
    },
    {
      "cell_type": "markdown",
      "metadata": {},
      "source": [
        "2. Repetir el punto anterior para el dataset *penguin*."
      ]
    },
    {
      "cell_type": "code",
      "execution_count": 20,
      "metadata": {},
      "outputs": [
        {
          "name": "stderr",
          "output_type": "stream",
          "text": [
            "C:\\Users\\Windows\\AppData\\Local\\Packages\\PythonSoftwareFoundation.Python.3.10_qbz5n2kfra8p0\\LocalCache\\local-packages\\Python310\\site-packages\\sklearn\\datasets\\_openml.py:1022: FutureWarning: The default value of `parser` will change from `'liac-arff'` to `'auto'` in 1.4. You can set `parser='auto'` to silence this warning. Therefore, an `ImportError` will be raised from 1.4 if the dataset is dense and pandas is not installed. Note that the pandas parser may return different data types. See the Notes Section in fetch_openml's API doc for details.\n",
            "  warn(\n"
          ]
        }
      ],
      "source": [
        "#pedimos los datos a penguins:\n",
        "X_penguins_full, y_penguins_full = get_penguins()"
      ]
    },
    {
      "cell_type": "code",
      "execution_count": 21,
      "metadata": {},
      "outputs": [],
      "source": [
        "#transponemos datos:\n",
        "penguins_train_x, penguins_train_y, penguins_test_x, penguins_test_y = split_transpose(X_full, y_full, 0.4, rng_seed)"
      ]
    },
    {
      "cell_type": "code",
      "execution_count": 22,
      "metadata": {},
      "outputs": [],
      "source": [
        "#caso uniforme:\n",
        "priori_prob = np.array([1/3, 1/3, 1/3])\n",
        "\n",
        "qda_uniform_penguins = QDA()\n",
        "\n",
        "qda_uniform_penguins.fit(penguins_train_x, penguins_train_y, priori_prob)\n",
        "\n",
        "penguins_train_acc = accuracy(penguins_train_y, qda_uniform.predict(penguins_train_x))\n",
        "penguins_test_acc = accuracy(penguins_test_y, qda_uniform.predict(penguins_test_x))\n",
        "\n",
        "df_results.at[4, \"Modelo\"] = \"QDAUniform\"\n",
        "df_results.at[4, \"Dataset\"] = \"Penguins\"\n",
        "df_results.at[4, \"Seed\"] = rng_seed\n",
        "df_results.at[4, \"Error (train)\"] = 1-penguins_train_acc\n",
        "df_results.at[4, \"Error (test)\"] = 1-penguins_test_acc"
      ]
    },
    {
      "cell_type": "code",
      "execution_count": 23,
      "metadata": {},
      "outputs": [
        {
          "name": "stdout",
          "output_type": "stream",
          "text": [
            "                       Modelo   Dataset  Seed Error (train) Error (test)\n",
            "0                  QDAUniform      Iris  6543      0.028571          0.0\n",
            "1  QDA with [0.9, 0.05, 0.05]      Iris  6543      0.028571          0.0\n",
            "2  QDA with [0.05, 0.9, 0.05]      Iris  6543      0.047619     0.022222\n",
            "3  QDA with [0.05, 0.05, 0.9]      Iris  6543      0.038095     0.044444\n",
            "4                  QDAUniform  Penguins  6543      0.022222     0.016667\n",
            "5  QDA with [0.9, 0.05, 0.05]  Penguins  6543      0.022222     0.016667\n",
            "6  QDA with [0.05, 0.9, 0.05]  Penguins  6543      0.033333          0.0\n",
            "7  QDA with [0.05, 0.05, 0.9]  Penguins  6543      0.033333         0.05\n"
          ]
        }
      ],
      "source": [
        "#Una clase con probabilidad 0.9, las demás 0.05 (probar las 3 combinaciones)\n",
        "#primer combinacion:\n",
        "priori_prob = np.array([0.9, 0.05, 0.05])\n",
        "\n",
        "qda_penguins = QDA()\n",
        "\n",
        "qda_penguins.fit(penguins_train_x, penguins_train_y, priori_prob)\n",
        "\n",
        "penguins_train_acc = accuracy(penguins_train_y, qda_penguins.predict(penguins_train_x))\n",
        "penguins_test_acc = accuracy(penguins_test_y, qda_penguins.predict(penguins_test_x))\n",
        "\n",
        "df_results.at[5, \"Modelo\"] = \"QDA with [0.9, 0.05, 0.05]\"\n",
        "df_results.at[5, \"Dataset\"] = \"Penguins\"\n",
        "df_results.at[5, \"Seed\"] = rng_seed\n",
        "df_results.at[5, \"Error (train)\"] = 1-penguins_train_acc\n",
        "df_results.at[5, \"Error (test)\"] = 1-penguins_test_acc\n",
        "\n",
        "#segunda combinacion:\n",
        "priori_prob = np.array([0.05, 0.9, 0.05])\n",
        "\n",
        "qda_penguins = QDA()\n",
        "\n",
        "qda_penguins.fit(penguins_train_x, penguins_train_y, priori_prob)\n",
        "\n",
        "penguins_train_acc = accuracy(penguins_train_y, qda_penguins.predict(penguins_train_x))\n",
        "penguins_test_acc = accuracy(penguins_test_y, qda_penguins.predict(penguins_test_x))\n",
        "\n",
        "df_results.at[6, \"Modelo\"] = \"QDA with [0.05, 0.9, 0.05]\"\n",
        "df_results.at[6, \"Dataset\"] = \"Penguins\"\n",
        "df_results.at[6, \"Seed\"] = rng_seed\n",
        "df_results.at[6, \"Error (train)\"] = 1-penguins_train_acc\n",
        "df_results.at[6, \"Error (test)\"] = 1-penguins_test_acc\n",
        "\n",
        "#tercera combinacion:\n",
        "priori_prob = np.array([0.05, 0.05, 0.9])\n",
        "\n",
        "qda_penguins = QDA()\n",
        "\n",
        "qda_penguins.fit(penguins_train_x, penguins_train_y, priori_prob)\n",
        "\n",
        "penguins_train_acc = accuracy(penguins_train_y, qda_penguins.predict(penguins_train_x))\n",
        "penguins_test_acc = accuracy(penguins_test_y, qda_penguins.predict(penguins_test_x))\n",
        "\n",
        "df_results.at[7, \"Modelo\"] = \"QDA with [0.05, 0.05, 0.9]\"\n",
        "df_results.at[7, \"Dataset\"] = \"Penguins\"\n",
        "df_results.at[7, \"Seed\"] = rng_seed\n",
        "df_results.at[7, \"Error (train)\"] = 1-penguins_train_acc\n",
        "df_results.at[7, \"Error (test)\"] = 1-penguins_test_acc\n",
        "\n",
        "print(df_results)"
      ]
    },
    {
      "cell_type": "markdown",
      "metadata": {},
      "source": [
        "Método 2 (Full)"
      ]
    },
    {
      "cell_type": "code",
      "execution_count": 24,
      "metadata": {},
      "outputs": [
        {
          "name": "stdout",
          "output_type": "stream",
          "text": [
            "['Classes: Adelie' 'Classes: Chinstrap' 'Classes: Gentoo']\n",
            "Uniform (apparent) error is : 0.0088\n",
            "Adelie (apparent) error is : 0.0175\n",
            "Chinstrap (apparent) error is : 0.0351\n",
            "Gentoo (apparent) error is : 0.0088\n"
          ]
        },
        {
          "name": "stderr",
          "output_type": "stream",
          "text": [
            "C:\\Users\\Windows\\AppData\\Local\\Packages\\PythonSoftwareFoundation.Python.3.10_qbz5n2kfra8p0\\LocalCache\\local-packages\\Python310\\site-packages\\sklearn\\datasets\\_openml.py:1022: FutureWarning: The default value of `parser` will change from `'liac-arff'` to `'auto'` in 1.4. You can set `parser='auto'` to silence this warning. Therefore, an `ImportError` will be raised from 1.4 if the dataset is dense and pandas is not installed. Note that the pandas parser may return different data types. See the Notes Section in fetch_openml's API doc for details.\n",
            "  warn(\n"
          ]
        }
      ],
      "source": [
        "X_full, y_full = get_penguins()\n",
        "\n",
        "classes = np.unique(y_full)\n",
        "print(\"Classes: \"+classes)\n",
        "\n",
        "# Entrenamos el modelo QDA con distribución uniforme (probabilidades iguales)\n",
        "qda_uniform = QDA()\n",
        "prior_uniform = np.array([1/3, 1/3, 1/3])\n",
        "qda_uniform.fit(X_full.T, y_full.T, prior_uniform)\n",
        "\n",
        "# Entrenamos el modelo QDA con una clase con alta probabilidad y las demás bajas\n",
        "\n",
        "# Clase 0 con alta probabilidad (0.9), las otras dos con baja (0.05)\n",
        "qda_high_prob_class_0 = QDA()\n",
        "prior_high_prob_class_0 = np.array([0.9, 0.05, 0.05])\n",
        "qda_high_prob_class_0.fit(X_full.T, y_full.T, prior_high_prob_class_0)\n",
        "\n",
        "# Clase 1 con alta probabilidad (0.9), las otras dos con baja (0.05)\n",
        "qda_high_prob_class_1 = QDA()\n",
        "prior_high_prob_class_1 = np.array([0.05, 0.9, 0.05])\n",
        "qda_high_prob_class_1.fit(X_full.T, y_full.T, prior_high_prob_class_1)\n",
        "\n",
        "# Clase 2 con alta probabilidad (0.9), las otras dos con baja (0.05)\n",
        "qda_high_prob_class_2 = QDA()\n",
        "prior_high_prob_class_2 = np.array([0.05, 0.05, 0.9])\n",
        "qda_high_prob_class_2.fit(X_full.T, y_full.T, prior_high_prob_class_2)\n",
        "\n",
        "# Realizamos las predicciones de los modelos\n",
        "predicted_uniform = qda_uniform.predict(X_full.T)\n",
        "predicted_high_prob_class_0 = qda_high_prob_class_0.predict(X_full.T)\n",
        "predicted_high_prob_class_1 = qda_high_prob_class_1.predict(X_full.T)\n",
        "predicted_high_prob_class_2 = qda_high_prob_class_2.predict(X_full.T)\n",
        "\n",
        "# Calculamos el accuracy para comparar las distribuciones\n",
        "accuracy_uniform = accuracy(y_full.T, predicted_uniform)\n",
        "accuracy_high_prob_class_0 = accuracy(y_full.T, predicted_high_prob_class_0)\n",
        "accuracy_high_prob_class_1 = accuracy(y_full.T, predicted_high_prob_class_1)\n",
        "accuracy_high_prob_class_2 = accuracy(y_full.T, predicted_high_prob_class_2)\n",
        "\n",
        "print(f\"Uniform (apparent) error is : {1 - accuracy_uniform:.4f}\")\n",
        "print(classes[0] + f\" (apparent) error is : {1 - accuracy_high_prob_class_0:.4f}\")\n",
        "print(classes[1] + f\" (apparent) error is : {1 - accuracy_high_prob_class_1:.4f}\")\n",
        "print(classes[2] + f\" (apparent) error is : {1 - accuracy_high_prob_class_2:.4f}\")"
      ]
    },
    {
      "cell_type": "markdown",
      "metadata": {},
      "source": [
        "Se aprecia nuevamente que el sesgo producido en las distribucionea a priori modifica la capacidad de predicción del clasificador afectando los resultados."
      ]
    },
    {
      "cell_type": "markdown",
      "metadata": {},
      "source": [
        "#\n",
        "\n",
        "\n",
        "#"
      ]
    },
    {
      "cell_type": "markdown",
      "metadata": {},
      "source": [
        "3. Implementar el modelo LDA, entrenarlo y testearlo contra los mismos sets que QDA ¿Se observan diferencias? ¿Podría decirse que alguno de los dos es notoriamente mejor que el otro?"
      ]
    },
    {
      "cell_type": "code",
      "execution_count": 25,
      "metadata": {},
      "outputs": [],
      "source": [
        "#CREAMOS LA FUNCIÓN LDA:\n",
        "#MODELO LDA:\n",
        "class LDA(BaseBayesianClassifier):\n",
        "\n",
        "  def _fit_params(self, X, y):\n",
        "    #se necesita la matriz de covarianza inversa, primero calculamos la matriz de covarianza para cada clase y luego el promedio ponderado de estas matrices, por ultimo su inversa.\n",
        "    self.covs = [np.cov(X[:,y.flatten()==idx], bias=True) for idx in range(len(self.log_a_priori))]\n",
        "    #idx tiene los indices de las clases.\n",
        "    #se toman todas las filas de X para cuando \"y\" coincida con idx (o sea, cada subconjunto de datos que se agarra estan asociados a una clase)\n",
        "    #con \"inv\" calculamos la inversa de la matriz\n",
        "    # Q5: por que hace falta el flatten y no se puede directamente X[:,y==idx]?\n",
        "    #PROMEDIO PONDERADO:\n",
        "    self.pond_cov = np.zeros((self.covs[0].shape[0], self.covs[0].shape[1]))\n",
        "    unique_y = np.unique(y)\n",
        "    for i in range(len(unique_y)):\n",
        "      #numero de muestras para cada clase:\n",
        "      n_j = np.sum(y == unique_y[i])\n",
        "      self.pond_cov += n_j * self.covs[i]\n",
        "\n",
        "    self.inv_pond_cov = inv( self.pond_cov / len(y) )\n",
        "\n",
        "\n",
        "    # Q6: por que se usa bias=True en vez del default bias=False? \n",
        "    self.means = [X[:,y.flatten()==idx].mean(axis=1, keepdims=True)\n",
        "                  for idx in range(len(self.log_a_priori))]\n",
        "    # Q7: que hace axis=1? por que no axis=0?\n",
        "\n",
        "  def _predict_log_conditional(self, x, class_idx):\n",
        "    # predict the log(P(x|G=class_idx)), the log of the conditional probability of x given the class\n",
        "    # this should depend on the model used\n",
        "    unbiased_x =  x -0.5 * self.means[class_idx]\n",
        "    return self.means[class_idx].T @ self.inv_pond_cov @ unbiased_x\n",
        "    #aca tenemos la distribución condicional de cada observable dado su clase, como se dijo en el paper es un campo escalar de x\n"
      ]
    },
    {
      "cell_type": "code",
      "execution_count": 26,
      "metadata": {},
      "outputs": [],
      "source": [
        "#Todo lo anterior pero con LDA:\n",
        "\n",
        "#caso uniforme\n",
        "priori_prob = np.array([1/3, 1/3, 1/3])\n",
        "\n",
        "lda_uniform = LDA()\n",
        "\n",
        "lda_uniform.fit(train_x, train_y, priori_prob)\n",
        "\n",
        "lda_train_acc = accuracy(train_y, lda_uniform.predict(train_x))\n",
        "lda_test_acc = accuracy(test_y, lda_uniform.predict(test_x))\n",
        "\n",
        "df_results.at[8, \"Modelo\"] = \"LDAUniform\"\n",
        "df_results.at[8, \"Dataset\"] = \"Iris\"\n",
        "df_results.at[8, \"Seed\"] = rng_seed\n",
        "df_results.at[8, \"Error (train)\"] = 1-lda_train_acc\n",
        "df_results.at[8, \"Error (test)\"] = 1-lda_test_acc\n",
        "\n",
        "\n"
      ]
    },
    {
      "cell_type": "code",
      "execution_count": 27,
      "metadata": {},
      "outputs": [],
      "source": [
        "#Una clase con probabilidad 0.9, las demás 0.05 (probar las 3 combinaciones)\n",
        "#primer combinacion:\n",
        "priori_prob = np.array([0.9, 0.05, 0.05])\n",
        "\n",
        "lda_differentprob = LDA()\n",
        "\n",
        "lda_differentprob.fit(train_x, train_y, priori_prob)\n",
        "\n",
        "lda_train_acc = accuracy(train_y, lda_differentprob.predict(train_x))\n",
        "lda_test_acc = accuracy(test_y, lda_differentprob.predict(test_x))\n",
        "\n",
        "df_results.at[9, \"Modelo\"] = \"LDA with [0.9, 0.05, 0.05]\"\n",
        "df_results.at[9, \"Dataset\"] = \"Iris\"\n",
        "df_results.at[9, \"Seed\"] = rng_seed\n",
        "df_results.at[9, \"Error (train)\"] = 1-lda_train_acc\n",
        "df_results.at[9, \"Error (test)\"] = 1-lda_test_acc\n",
        "\n",
        "#segunda combinacion:\n",
        "priori_prob = np.array([0.05, 0.9, 0.05])\n",
        "\n",
        "lda_differentprob = LDA()\n",
        "\n",
        "lda_differentprob.fit(train_x, train_y, priori_prob)\n",
        "\n",
        "lda_train_acc = accuracy(train_y, lda_differentprob.predict(train_x))\n",
        "lda_test_acc = accuracy(test_y, lda_differentprob.predict(test_x))\n",
        "\n",
        "df_results.at[10, \"Modelo\"] = \"LDA with [0.05, 0.9, 0.05]\"\n",
        "df_results.at[10, \"Dataset\"] = \"Iris\"\n",
        "df_results.at[10, \"Seed\"] = rng_seed\n",
        "df_results.at[10, \"Error (train)\"] = 1-lda_train_acc\n",
        "df_results.at[10, \"Error (test)\"] = 1-lda_test_acc\n",
        "\n",
        "\n",
        "#tercera combinacion:\n",
        "priori_prob = np.array([0.05, 0.05, 0.9])\n",
        "\n",
        "lda_differentprob = LDA()\n",
        "\n",
        "lda_differentprob.fit(train_x, train_y, priori_prob)\n",
        "\n",
        "lda_train_acc = accuracy(train_y, lda_differentprob.predict(train_x))\n",
        "lda_test_acc = accuracy(test_y, lda_differentprob.predict(test_x))\n",
        "\n",
        "df_results.at[11, \"Modelo\"] = \"LDA with [0.05, 0.05, 0.9]\"\n",
        "df_results.at[11, \"Dataset\"] = \"Iris\"\n",
        "df_results.at[11, \"Seed\"] = rng_seed\n",
        "df_results.at[11, \"Error (train)\"] = 1-lda_train_acc\n",
        "df_results.at[11, \"Error (test)\"] = 1-lda_test_acc\n",
        "\n",
        "\n"
      ]
    },
    {
      "cell_type": "code",
      "execution_count": 35,
      "metadata": {},
      "outputs": [
        {
          "name": "stdout",
          "output_type": "stream",
          "text": [
            "Train (apparent) error is 1.0000 while test error is 1.0000\n"
          ]
        }
      ],
      "source": [
        "#LDA PARA PINGUINS:\n",
        "lda_uniform_penguins = LDA()\n",
        "\n",
        "lda_uniform_penguins.fit(penguins_train_x, penguins_train_y)\n",
        "\n",
        "penguins_train_acc = accuracy(penguins_train_y, qda_uniform.predict(penguins_train_x))\n",
        "penguins_test_acc = accuracy(penguins_test_y, qda_uniform.predict(penguins_test_x))\n",
        "print(f\"Train (apparent) error is {1-penguins_train_acc:.4f} while test error is {1-penguins_test_acc:.4f}\")\n",
        "\n",
        "df_results.at[12, \"Modelo\"] = \"LDAUniform\"\n",
        "df_results.at[12, \"Dataset\"] = \"Penguins\"\n",
        "df_results.at[12, \"Seed\"] = rng_seed\n",
        "df_results.at[12, \"Error (train)\"] = 1-penguins_train_acc\n",
        "df_results.at[12, \"Error (test)\"] = 1-penguins_test_acc\n",
        "\n"
      ]
    },
    {
      "cell_type": "code",
      "execution_count": 29,
      "metadata": {},
      "outputs": [
        {
          "name": "stdout",
          "output_type": "stream",
          "text": [
            "                        Modelo   Dataset  Seed Error (train) Error (test)\n",
            "0                   QDAUniform      Iris  6543      0.028571          0.0\n",
            "1   QDA with [0.9, 0.05, 0.05]      Iris  6543      0.028571          0.0\n",
            "2   QDA with [0.05, 0.9, 0.05]      Iris  6543      0.047619     0.022222\n",
            "3   QDA with [0.05, 0.05, 0.9]      Iris  6543      0.038095     0.044444\n",
            "4                   QDAUniform  Penguins  6543      0.022222     0.016667\n",
            "5   QDA with [0.9, 0.05, 0.05]  Penguins  6543      0.022222     0.016667\n",
            "6   QDA with [0.05, 0.9, 0.05]  Penguins  6543      0.033333          0.0\n",
            "7   QDA with [0.05, 0.05, 0.9]  Penguins  6543      0.033333         0.05\n",
            "8                   LDAUniform      Iris  6543      0.028571          0.0\n",
            "9   LDA with [0.9, 0.05, 0.05]      Iris  6543      0.666667     0.666667\n",
            "10  LDA with [0.05, 0.9, 0.05]      Iris  6543      0.695238          0.6\n",
            "11  LDA with [0.05, 0.05, 0.9]      Iris  6543      0.638095     0.733333\n",
            "12                  LDAUniform  Penguins  6543           1.0          1.0\n",
            "13  LDA with [0.9, 0.05, 0.05]  Penguins  6543           0.7     0.616667\n",
            "14  LDA with [0.05, 0.9, 0.05]  Penguins  6543      0.677778         0.65\n",
            "15  LDA with [0.05, 0.05, 0.9]  Penguins  6543      0.622222     0.733333\n"
          ]
        }
      ],
      "source": [
        "#Una clase con probabilidad 0.9, las demás 0.05 (probar las 3 combinaciones)\n",
        "#primer combinacion:\n",
        "priori_prob = np.array([0.9, 0.05, 0.05])\n",
        "\n",
        "lda_differentprob_penguins = LDA()\n",
        "\n",
        "lda_differentprob_penguins.fit(penguins_train_x, penguins_train_y, priori_prob)\n",
        "\n",
        "penguins_train_acc = accuracy(penguins_train_y, lda_differentprob_penguins.predict(penguins_train_x))\n",
        "penguins_test_acc = accuracy(penguins_test_y, lda_differentprob_penguins.predict(penguins_test_x))\n",
        "\n",
        "df_results.at[13, \"Modelo\"] = \"LDA with [0.9, 0.05, 0.05]\"\n",
        "df_results.at[13, \"Dataset\"] = \"Penguins\"\n",
        "df_results.at[13, \"Seed\"] = rng_seed\n",
        "df_results.at[13, \"Error (train)\"] = 1-penguins_train_acc\n",
        "df_results.at[13, \"Error (test)\"] = 1-penguins_test_acc\n",
        "\n",
        "#segunda combinacion:\n",
        "priori_prob = np.array([0.05, 0.9, 0.05])\n",
        "\n",
        "lda_differentprob_penguins = LDA()\n",
        "\n",
        "lda_differentprob_penguins.fit(penguins_train_x, penguins_train_y, priori_prob)\n",
        "\n",
        "penguins_train_acc = accuracy(penguins_train_y, lda_differentprob_penguins.predict(penguins_train_x))\n",
        "penguins_test_acc = accuracy(penguins_test_y, lda_differentprob_penguins.predict(penguins_test_x))\n",
        "\n",
        "df_results.at[14, \"Modelo\"] = \"LDA with [0.05, 0.9, 0.05]\"\n",
        "df_results.at[14, \"Dataset\"] = \"Penguins\"\n",
        "df_results.at[14, \"Seed\"] = rng_seed\n",
        "df_results.at[14, \"Error (train)\"] = 1-penguins_train_acc\n",
        "df_results.at[14, \"Error (test)\"] = 1-penguins_test_acc\n",
        "\n",
        "#tercera combinacion:\n",
        "priori_prob = np.array([0.05, 0.05, 0.9])\n",
        "\n",
        "lda_differentprob_penguins = LDA()\n",
        "\n",
        "lda_differentprob_penguins.fit(penguins_train_x, penguins_train_y, priori_prob)\n",
        "\n",
        "penguins_train_acc = accuracy(penguins_train_y, lda_differentprob_penguins.predict(penguins_train_x))\n",
        "penguins_test_acc = accuracy(penguins_test_y, lda_differentprob_penguins.predict(penguins_test_x))\n",
        "\n",
        "df_results.at[15, \"Modelo\"] = \"LDA with [0.05, 0.05, 0.9]\"\n",
        "df_results.at[15, \"Dataset\"] = \"Penguins\"\n",
        "df_results.at[15, \"Seed\"] = rng_seed\n",
        "df_results.at[15, \"Error (train)\"] = 1-penguins_train_acc\n",
        "df_results.at[15, \"Error (test)\"] = 1-penguins_test_acc\n",
        "\n",
        "print(df_results)"
      ]
    },
    {
      "cell_type": "markdown",
      "metadata": {},
      "source": [
        "Como puede apreciarse, con QDA se obtiene una mejor predicción que con LDA."
      ]
    },
    {
      "cell_type": "markdown",
      "metadata": {},
      "source": [
        "#\n",
        "\n",
        "\n",
        "#"
      ]
    },
    {
      "cell_type": "markdown",
      "metadata": {},
      "source": [
        "4. Utilizar otros 2 (dos) valores de *random seed* para obtener distintos splits de train y test, y repetir la comparación del punto anterior ¿Las conclusiones previas se mantienen?"
      ]
    },
    {
      "cell_type": "markdown",
      "metadata": {},
      "source": [
        "Seed = 1"
      ]
    },
    {
      "cell_type": "code",
      "execution_count": 30,
      "metadata": {},
      "outputs": [
        {
          "name": "stdout",
          "output_type": "stream",
          "text": [
            "X: (150, 4), Y:(150, 1)\n",
            "(4, 105) (1, 105) (4, 45) (1, 45)\n",
            "Iris results\n",
            "QDA train (apparent) error is 0.0190 while test error is 0.0000\n",
            "LDA train (apparent) error is 0.3048 while test error is 0.4000\n"
          ]
        }
      ],
      "source": [
        "# hiperparámetros\n",
        "rng_seed = 1\n",
        "\n",
        "# showing for iris\n",
        "X_full, y_full = get_iris_dataset()\n",
        "\n",
        "print(f\"X: {X_full.shape}, Y:{y_full.shape}\")\n",
        "\n",
        "qda = QDA()\n",
        "qda.fit(train_x, train_y)\n",
        "\n",
        "lda = LDA()\n",
        "lda.fit(train_x, train_y)\n",
        "\n",
        "# preparing data, train - test validation\n",
        "# 70-30 split\n",
        "\n",
        "train_x, train_y, test_x, test_y = split_transpose(X_full, y_full, 0.3, rng_seed)\n",
        "\n",
        "print(train_x.shape, train_y.shape, test_x.shape, test_y.shape)\n",
        "\n",
        "qda_iris_seed1_train_acc = accuracy(train_y, qda.predict(train_x))\n",
        "qda_iris_seed1_test_acc = accuracy(test_y, qda.predict(test_x))\n",
        "\n",
        "lda_iris_seed1_train_acc = accuracy(train_y, lda.predict(train_x))\n",
        "lda_iris_seed1_test_acc = accuracy(test_y, lda.predict(test_x))\n",
        "print(\"Iris results\")\n",
        "print(f\"QDA train (apparent) error is {1 - qda_iris_seed1_train_acc:.4f} while test error is {1 - qda_iris_seed1_test_acc:.4f}\")\n",
        "print(f\"LDA train (apparent) error is {1 - lda_iris_seed1_train_acc:.4f} while test error is {1 - lda_iris_seed1_test_acc:.4f}\")"
      ]
    },
    {
      "cell_type": "markdown",
      "metadata": {},
      "source": [
        "Seed = 2"
      ]
    },
    {
      "cell_type": "code",
      "execution_count": 31,
      "metadata": {},
      "outputs": [
        {
          "name": "stdout",
          "output_type": "stream",
          "text": [
            "X: (150, 4), Y:(150, 1)\n",
            "(4, 105) (1, 105) (4, 45) (1, 45)\n",
            "Iris results\n",
            "QDA train (apparent) error is 0.0190 while test error is 0.0000\n",
            "LDA train (apparent) error is 0.3143 while test error is 0.3333\n"
          ]
        }
      ],
      "source": [
        "# hiperparámetros\n",
        "rng_seed = 2\n",
        "\n",
        "# showing for iris\n",
        "X_full, y_full = get_iris_dataset()\n",
        "\n",
        "print(f\"X: {X_full.shape}, Y:{y_full.shape}\")\n",
        "\n",
        "qda = QDA()\n",
        "qda.fit(train_x, train_y)\n",
        "\n",
        "lda = LDA()\n",
        "lda.fit(train_x, train_y)\n",
        "\n",
        "# preparing data, train - test validation\n",
        "# 70-30 split\n",
        "\n",
        "train_x, train_y, test_x, test_y = split_transpose(X_full, y_full, 0.3, rng_seed)\n",
        "\n",
        "print(train_x.shape, train_y.shape, test_x.shape, test_y.shape)\n",
        "\n",
        "qda_iris_seed2_train_acc = accuracy(train_y, qda.predict(train_x))\n",
        "qda_iris_seed2_test_acc = accuracy(test_y, qda.predict(test_x))\n",
        "\n",
        "lda_iris_seed2_train_acc = accuracy(train_y, lda.predict(train_x))\n",
        "lda_iris_seed2_test_acc = accuracy(test_y, lda.predict(test_x))\n",
        "print(\"Iris results\")\n",
        "print(f\"QDA train (apparent) error is {1 - qda_iris_seed2_train_acc:.4f} while test error is {1 - qda_iris_seed2_test_acc:.4f}\")\n",
        "print(f\"LDA train (apparent) error is {1 - lda_iris_seed2_train_acc:.4f} while test error is {1 - lda_iris_seed2_test_acc:.4f}\")"
      ]
    },
    {
      "cell_type": "markdown",
      "metadata": {},
      "source": [
        "Sí, las conclusiones se mantienen"
      ]
    },
    {
      "cell_type": "markdown",
      "metadata": {},
      "source": [
        "#\n",
        "\n",
        "\n",
        "#"
      ]
    },
    {
      "cell_type": "markdown",
      "metadata": {},
      "source": [
        "5. Estimar y comparar los tiempos de predicción de las clases `QDA` y `TensorizedQDA`. De haber diferencias ¿Cuáles pueden ser las causas?"
      ]
    },
    {
      "cell_type": "code",
      "execution_count": 32,
      "metadata": {},
      "outputs": [
        {
          "name": "stdout",
          "output_type": "stream",
          "text": [
            "3.54 ms ± 222 µs per loop (mean ± std. dev. of 7 runs, 100 loops each)\n"
          ]
        }
      ],
      "source": [
        "%%timeit\n",
        "\n",
        "model = QDA()\n",
        "model.fit(train_x, train_y)\n",
        "model.predict(test_x)"
      ]
    },
    {
      "cell_type": "code",
      "execution_count": 33,
      "metadata": {},
      "outputs": [
        {
          "name": "stdout",
          "output_type": "stream",
          "text": [
            "2.56 ms ± 38.4 µs per loop (mean ± std. dev. of 7 runs, 100 loops each)\n"
          ]
        }
      ],
      "source": [
        "%%timeit\n",
        "\n",
        "model = TensorizedQDA()\n",
        "model.fit(train_x, train_y)\n",
        "model.predict(test_x)"
      ]
    },
    {
      "cell_type": "markdown",
      "metadata": {},
      "source": [
        "El rendimiento superior de TensorizedQDA en comparación con QDA probablemente se debe a la forma en que se están realizando los cálculos en cada uno de los métodos. TensorizedQDA aprovecha el uso de operaciones vectorizadas y manipulación de matrices, lo que generalmente mejora el rendimiento en comparación con el enfoque no matricial de QDA."
      ]
    }
  ],
  "metadata": {
    "colab": {
      "provenance": []
    },
    "kernelspec": {
      "display_name": "Python 3",
      "name": "python3"
    },
    "language_info": {
      "codemirror_mode": {
        "name": "ipython",
        "version": 3
      },
      "file_extension": ".py",
      "mimetype": "text/x-python",
      "name": "python",
      "nbconvert_exporter": "python",
      "pygments_lexer": "ipython3",
      "version": "3.10.11"
    }
  },
  "nbformat": 4,
  "nbformat_minor": 0
}
